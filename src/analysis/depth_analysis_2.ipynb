{
 "cells": [
  {
   "cell_type": "markdown",
   "id": "682f2b60",
   "metadata": {},
   "source": [
    "# Depth dataset analysis"
   ]
  },
  {
   "cell_type": "code",
   "execution_count": 2,
   "id": "1c4f1745",
   "metadata": {},
   "outputs": [],
   "source": [
    "import numpy as np\n",
    "import pandas as pd\n",
    "import matplotlib.pyplot as plt\n",
    "import pickle\n",
    "import cv2"
   ]
  },
  {
   "cell_type": "code",
   "execution_count": 3,
   "id": "0c11bf3d",
   "metadata": {},
   "outputs": [],
   "source": [
    "from ipywidgets import interact, interactive, fixed, interact_manual\n",
    "import ipywidgets as widgets"
   ]
  },
  {
   "cell_type": "code",
   "execution_count": 4,
   "id": "47f04f2e",
   "metadata": {},
   "outputs": [],
   "source": [
    "# Positioning ROIs:\n",
    "# Body\n",
    "POS_BODY_FILE = '../data/positions/roi_position.pkl'\n",
    "# Antenna\n",
    "POS_ANTENNA_FILE = '../data/positions/antenna_position.pkl'\n",
    "# Dataset of depth captures\n",
    "DEPTH_DATASET_FILE = '../data/positions/capture_depth_capture.pkl'\n",
    "# ROI defined for the dataset\n",
    "ROI_DEFINITION_FILE = '../data/positions/roi.pkl'\n",
    "# Original image size\n",
    "ORIGINAL_WIDTH = 640\n",
    "ORIGINAL_HEIGHT = 480\n",
    "# These parameters come from intrinsics matrix (RIGHT)\n",
    "CX = 636.09185791\n",
    "CY = 357.98129272\n",
    "FX = 854.11590576\n",
    "FY = 854.77392578"
   ]
  },
  {
   "cell_type": "code",
   "execution_count": 5,
   "id": "b006033b",
   "metadata": {},
   "outputs": [],
   "source": [
    "fidant = open(POS_ANTENNA_FILE, 'rb')\n",
    "antenna = pickle.load(fidant)\n",
    "fidbod = open(POS_BODY_FILE, 'rb')\n",
    "body = pickle.load(fidbod)\n",
    "fid = open(DEPTH_DATASET_FILE, 'rb')\n",
    "ds = pickle.load(fid)\n",
    "fidroi = open(ROI_DEFINITION_FILE, \"rb\")\n",
    "roi = pickle.load(fidroi)"
   ]
  },
  {
   "cell_type": "code",
   "execution_count": 6,
   "id": "8cd8f15f",
   "metadata": {},
   "outputs": [
    {
     "data": {
      "text/plain": [
       "{'absolute': {'topx': 115, 'topy': 63, 'bottomx': 131, 'bottomy': 80},\n",
       " 'relative': {'topx': 0.1796875,\n",
       "  'topy': 0.1575,\n",
       "  'bottomx': 0.2046875,\n",
       "  'bottomy': 0.2},\n",
       " 'x': -286.86138916015625,\n",
       " 'y': 187.84324645996094,\n",
       " 'z': 643.0}"
      ]
     },
     "execution_count": 6,
     "metadata": {},
     "output_type": "execute_result"
    }
   ],
   "source": [
    "antenna"
   ]
  },
  {
   "cell_type": "code",
   "execution_count": 7,
   "id": "f4bce61b",
   "metadata": {},
   "outputs": [
    {
     "data": {
      "text/plain": [
       "{'topl': [0.45, 0.15000000000000008],\n",
       " 'bottomr': [0.65, 0.35],\n",
       " 'x': 69.42411804199219,\n",
       " 'y': 216.9503631591797,\n",
       " 'z': 958.0}"
      ]
     },
     "execution_count": 7,
     "metadata": {},
     "output_type": "execute_result"
    }
   ],
   "source": [
    "body"
   ]
  },
  {
   "cell_type": "code",
   "execution_count": 8,
   "id": "c28004b6",
   "metadata": {},
   "outputs": [
    {
     "data": {
      "text/plain": [
       "{'right_hand': {'topx': 0.234375,\n",
       "  'bottomx': 0.5640625,\n",
       "  'topy': 0.0825,\n",
       "  'bottomy': 0.4475},\n",
       " 'left_hand': {'topx': 0.7046875,\n",
       "  'bottomx': 0.8140625,\n",
       "  'topy': 0.18,\n",
       "  'bottomy': 0.6475}}"
      ]
     },
     "execution_count": 8,
     "metadata": {},
     "output_type": "execute_result"
    }
   ],
   "source": [
    "roi"
   ]
  },
  {
   "cell_type": "code",
   "execution_count": 15,
   "id": "92405fbf",
   "metadata": {},
   "outputs": [],
   "source": [
    "# Antenna\n",
    "x1 = int(antenna['absolute']['topx'])\n",
    "x2 = int(antenna['absolute']['bottomx'])\n",
    "z = antenna['z']\n",
    "x1_mm = ((x1 - CX)*z)/FX\n",
    "x2_mm = ((x2 - CX)*z)/FX"
   ]
  },
  {
   "cell_type": "code",
   "execution_count": 16,
   "id": "b19ede34",
   "metadata": {},
   "outputs": [
    {
     "data": {
      "text/plain": [
       "(115, 131, -392.29109582965646, -380.24589220960956)"
      ]
     },
     "execution_count": 16,
     "metadata": {},
     "output_type": "execute_result"
    }
   ],
   "source": [
    "antenna['absolute']['topx'], antenna['absolute']['bottomx'], x1_mm, x2_mm"
   ]
  },
  {
   "cell_type": "code",
   "execution_count": 17,
   "id": "9d03d0bf",
   "metadata": {},
   "outputs": [],
   "source": [
    "# Righ Hand\n",
    "x1 = int(roi['right_hand']['topx']*ORIGINAL_WIDTH)\n",
    "x2 = int(roi['right_hand']['bottomx']*ORIGINAL_WIDTH)\n",
    "z = antenna['z']\n",
    "x1_mm = ((x1 - CX)*z)/FX\n",
    "x2_mm = ((x2 - CX)*z)/FX"
   ]
  },
  {
   "cell_type": "code",
   "execution_count": 19,
   "id": "406421b7",
   "metadata": {},
   "outputs": [
    {
     "data": {
      "text/plain": [
       "(150, 361, -365.94221291080385, -207.0960901714352)"
      ]
     },
     "execution_count": 19,
     "metadata": {},
     "output_type": "execute_result"
    }
   ],
   "source": [
    "x1, x2, x1_mm, x2_mm"
   ]
  },
  {
   "cell_type": "code",
   "execution_count": 64,
   "id": "3879319c",
   "metadata": {},
   "outputs": [],
   "source": [
    "# Process dataset\n",
    "dm_lh = []\n",
    "dm_rh = []\n",
    "for dm in ds:\n",
    "    if dm['hand'] == 'left':\n",
    "        dm_lh.append(dm)\n",
    "    else:\n",
    "        dm_rh.append(dm)"
   ]
  },
  {
   "cell_type": "code",
   "execution_count": 65,
   "id": "c3a547dd",
   "metadata": {},
   "outputs": [],
   "source": [
    "size_lh = len(dm_lh)\n",
    "size_rh = len(dm_rh)\n",
    "\n",
    "depth_map_dim_lh = dm_lh[0]['depth_map'].shape\n",
    "depth_map_dim_rh = dm_rh[0]['depth_map'].shape\n",
    "\n",
    "from_ts_lh = dm_lh[0]['timestamp']\n",
    "to_ts_lh = dm_lh[size_lh-1]['timestamp']\n",
    "\n",
    "from_ts_rh = dm_rh[0]['timestamp']\n",
    "to_ts_rh = dm_rh[size_rh-1]['timestamp']\n",
    "\n",
    "from_frame_num_lh = dm_lh[0]['frame']\n",
    "to_frame_num_lh = dm_lh[size_lh-1]['frame']\n",
    "\n",
    "from_frame_num_rh = ds[0]['frame']\n",
    "to_frame_num_rh = ds[size_rh-1]['frame']\n",
    "\n",
    "roi_topx_lh = int(roi['left_hand']['topx'] * ORIGINAL_WIDTH)\n",
    "roi_bottomx_lh = int(roi['left_hand']['bottomx'] * ORIGINAL_WIDTH)\n",
    "roi_topy_lh = int(roi['left_hand']['topy'] * ORIGINAL_HEIGHT)\n",
    "roi_bottomy_lh = int(roi['left_hand']['bottomy'] * ORIGINAL_HEIGHT)\n",
    "\n",
    "roi_topx_rh = int(roi['right_hand']['topx'] * ORIGINAL_WIDTH)\n",
    "roi_bottomx_rh = int(roi['right_hand']['bottomx'] * ORIGINAL_WIDTH)\n",
    "roi_topy_rh = int(roi['right_hand']['topy'] * ORIGINAL_HEIGHT)\n",
    "roi_bottomy_rh = int(roi['right_hand']['bottomy'] * ORIGINAL_HEIGHT)"
   ]
  },
  {
   "cell_type": "markdown",
   "id": "c0ce8479",
   "metadata": {},
   "source": [
    "## Dataset Metadata - Left Hand"
   ]
  },
  {
   "cell_type": "code",
   "execution_count": 66,
   "id": "c0cbb630",
   "metadata": {},
   "outputs": [
    {
     "name": "stdout",
     "output_type": "stream",
     "text": [
      "Dataset size = 469 frames\n",
      "Depth map width = 71 pixels\n",
      "Depth map height = 188 pixels\n",
      "From time = 2021-07-15 22:18:06.059280\n",
      "To time = 2021-07-15 22:18:21.668119\n",
      "From frame = 3709\n",
      "To frame = 4177\n",
      "ROI top (x,y) = (451,86)\n",
      "ROI bottom (x,y) = (521,310)\n"
     ]
    }
   ],
   "source": [
    "print(f\"Dataset size = {size_lh} frames\")\n",
    "print(f\"Depth map width = {depth_map_dim_lh[1]} pixels\")\n",
    "print(f\"Depth map height = {depth_map_dim_lh[0]} pixels\")\n",
    "print(f\"From time = {from_ts_lh}\")\n",
    "print(f\"To time = {to_ts_lh}\")\n",
    "print(f\"From frame = {from_frame_num_lh}\")\n",
    "print(f\"To frame = {to_frame_num_lh}\")\n",
    "print(f\"ROI top (x,y) = ({roi_topx_lh},{roi_topy_lh})\")\n",
    "print(f\"ROI bottom (x,y) = ({roi_bottomx_lh},{roi_bottomy_lh})\")"
   ]
  },
  {
   "cell_type": "markdown",
   "id": "aeac7e4f",
   "metadata": {},
   "source": [
    "## Dataset Metadata - Right Hand"
   ]
  },
  {
   "cell_type": "code",
   "execution_count": 67,
   "id": "b2e75d55",
   "metadata": {},
   "outputs": [
    {
     "name": "stdout",
     "output_type": "stream",
     "text": [
      "Dataset size = 469 frames\n",
      "Depth map width = 212 pixels\n",
      "Depth map height = 147 pixels\n",
      "From time = 2021-07-15 22:18:06.059280\n",
      "To time = 2021-07-15 22:18:21.668119\n",
      "From frame = 3709\n",
      "To frame = 3943\n",
      "ROI top (x,y) = (150,39)\n",
      "ROI bottom (x,y) = (361,214)\n"
     ]
    }
   ],
   "source": [
    "print(f\"Dataset size = {size_rh} frames\")\n",
    "print(f\"Depth map width = {depth_map_dim_rh[1]} pixels\")\n",
    "print(f\"Depth map height = {depth_map_dim_rh[0]} pixels\")\n",
    "print(f\"From time = {from_ts_rh}\")\n",
    "print(f\"To time = {to_ts_rh}\")\n",
    "print(f\"From frame = {from_frame_num_rh}\")\n",
    "print(f\"To frame = {to_frame_num_rh}\")\n",
    "print(f\"ROI top (x,y) = ({roi_topx_rh},{roi_topy_rh})\")\n",
    "print(f\"ROI bottom (x,y) = ({roi_bottomx_rh},{roi_bottomy_rh})\")"
   ]
  },
  {
   "cell_type": "markdown",
   "id": "319d7a75",
   "metadata": {},
   "source": [
    "## Inspect Dataset (Right Hand)"
   ]
  },
  {
   "cell_type": "code",
   "execution_count": 68,
   "id": "9b85ca33",
   "metadata": {},
   "outputs": [],
   "source": [
    "size = size_rh"
   ]
  },
  {
   "cell_type": "code",
   "execution_count": 69,
   "id": "56440bd6",
   "metadata": {},
   "outputs": [],
   "source": [
    "dataset = dm_rh"
   ]
  },
  {
   "cell_type": "code",
   "execution_count": 70,
   "id": "8e039e72",
   "metadata": {},
   "outputs": [],
   "source": [
    "CURRENT_SLICE = 0\n",
    "slice_size = 16\n",
    "slices = size//slice_size + (0 if size%slice_size==0 else 1)\n",
    "def show_slice(slice_number):\n",
    "    global CURRENT_SLICE\n",
    "    slice_ = dataset[slice_number*slice_size:min(slice_number*slice_size+slice_size,size)]\n",
    "    images_per_row = 4\n",
    "    rows = slice_size//images_per_row\n",
    "    fig, axs = plt.subplots(nrows=rows, ncols=images_per_row, figsize=(16,10))\n",
    "    for idx, sl_ in enumerate(slice_):\n",
    "        fn = slice_number*slice_size + idx\n",
    "        row, col = idx//rows, idx%rows\n",
    "        axs[row,col].imshow(sl_['depth_map'], cmap='Spectral')\n",
    "        axs[row,col].set_title(f\"frame {fn}\")\n",
    "        axs[row,col].tick_params(\n",
    "            left=False, \n",
    "            right=False, \n",
    "            labelleft=False,\n",
    "            labelbottom=False, \n",
    "            bottom = False\n",
    "        )    \n",
    "    fig.tight_layout()\n",
    "    plt.show()\n",
    "    CURRENT_SLICE = slice_number"
   ]
  },
  {
   "cell_type": "code",
   "execution_count": 71,
   "id": "65376840",
   "metadata": {},
   "outputs": [
    {
     "data": {
      "application/vnd.jupyter.widget-view+json": {
       "model_id": "4998454a23a34b31a4ef1292ae774c8b",
       "version_major": 2,
       "version_minor": 0
      },
      "text/plain": [
       "interactive(children=(IntSlider(value=0, description='Select Slice', max=29), Output()), _dom_classes=('widget…"
      ]
     },
     "metadata": {},
     "output_type": "display_data"
    },
    {
     "data": {
      "text/plain": [
       "<function __main__.show_slice(slice_number)>"
      ]
     },
     "execution_count": 71,
     "metadata": {},
     "output_type": "execute_result"
    }
   ],
   "source": [
    "interact(show_slice, \n",
    "         slice_number=widgets.IntSlider(min=0, max=slices-1, step=1, description='Select Slice')\n",
    ")"
   ]
  },
  {
   "cell_type": "markdown",
   "id": "14ea6951",
   "metadata": {},
   "source": [
    "## Thresholding Depth Values"
   ]
  },
  {
   "cell_type": "code",
   "execution_count": 139,
   "id": "6f7b3314",
   "metadata": {},
   "outputs": [],
   "source": [
    "body_buffer = 90\n",
    "antenna_buffer = 5"
   ]
  },
  {
   "cell_type": "code",
   "execution_count": 140,
   "id": "d9406b25",
   "metadata": {},
   "outputs": [],
   "source": [
    "# Hard limits\n",
    "# Max depth\n",
    "MAX_DEPTH_VALUE = body['z'] - body_buffer\n",
    "# Min depth\n",
    "MIN_DEPTH_VALUE = antenna['z'] + antenna_buffer"
   ]
  },
  {
   "cell_type": "code",
   "execution_count": 141,
   "id": "eb207fbb",
   "metadata": {},
   "outputs": [
    {
     "data": {
      "text/plain": [
       "(868.0, 648.0)"
      ]
     },
     "execution_count": 141,
     "metadata": {},
     "output_type": "execute_result"
    }
   ],
   "source": [
    "MAX_DEPTH_VALUE, MIN_DEPTH_VALUE"
   ]
  },
  {
   "cell_type": "code",
   "execution_count": 142,
   "id": "fbc89cea",
   "metadata": {},
   "outputs": [],
   "source": [
    "# Show dataset filtered\n",
    "def show_filtered_slice(slice_number):\n",
    "    slice_ = dataset[slice_number*slice_size:min(slice_number*slice_size+slice_size,size)]\n",
    "    images_per_row = 4\n",
    "    rows = slice_size//images_per_row\n",
    "    fig, axs = plt.subplots(nrows=rows, ncols=images_per_row, figsize=(16,10))\n",
    "    for idx, sl_ in enumerate(slice_):\n",
    "        fn = slice_number*slice_size + idx\n",
    "        row, col = idx//rows, idx%rows\n",
    "        # Max values turn to 0 for display\n",
    "        dm_ = sl_['depth_map'].copy()\n",
    "        filter_1 = dm_ > MAX_DEPTH_VALUE\n",
    "        dm_[filter_1] = 2**16\n",
    "        axs[row,col].imshow(dm_, cmap='rainbow')\n",
    "        axs[row,col].set_title(f\"frame {fn}\")\n",
    "        axs[row,col].tick_params(\n",
    "            left=False, \n",
    "            right=False, \n",
    "            labelleft=False,\n",
    "            labelbottom=False, \n",
    "            bottom = False\n",
    "        )    \n",
    "    fig.tight_layout()\n",
    "    plt.show()"
   ]
  },
  {
   "cell_type": "code",
   "execution_count": 143,
   "id": "262b30c6",
   "metadata": {},
   "outputs": [
    {
     "data": {
      "text/plain": [
       "5"
      ]
     },
     "execution_count": 143,
     "metadata": {},
     "output_type": "execute_result"
    }
   ],
   "source": [
    "CURRENT_SLICE"
   ]
  },
  {
   "cell_type": "code",
   "execution_count": 144,
   "id": "94049412",
   "metadata": {},
   "outputs": [
    {
     "data": {
      "image/png": "[encoded data removed]",
      "text/plain": [
       "<Figure size 1152x720 with 16 Axes>"
      ]
     },
     "metadata": {},
     "output_type": "display_data"
    }
   ],
   "source": [
    "show_filtered_slice(CURRENT_SLICE)"
   ]
  },
  {
   "cell_type": "markdown",
   "id": "62e336e8",
   "metadata": {},
   "source": [
    "## Select a Frame to inspect"
   ]
  },
  {
   "cell_type": "code",
   "execution_count": 128,
   "id": "dced68df",
   "metadata": {},
   "outputs": [],
   "source": [
    "FRAME = 48"
   ]
  },
  {
   "cell_type": "code",
   "execution_count": 129,
   "id": "d2fcd5a0",
   "metadata": {},
   "outputs": [],
   "source": [
    "dm_frame = dataset[FRAME]['depth_map']\n",
    "frame_number = dataset[FRAME]['frame']\n",
    "ts = dataset[FRAME]['timestamp']"
   ]
  },
  {
   "cell_type": "code",
   "execution_count": 130,
   "id": "301cdc53",
   "metadata": {},
   "outputs": [],
   "source": [
    "filter_cond = (dm_frame > MAX_DEPTH_VALUE) | (dm_frame < MIN_DEPTH_VALUE)\n",
    "dm_frame_filtered = dm_frame.copy()\n",
    "dm_frame_filtered_idxs = np.argwhere(~filter_cond)\n",
    "dm_frame_filtered_values = dm_frame[~filter_cond].flatten()\n",
    "dm_frame_filtered[filter_cond] = 2**16"
   ]
  },
  {
   "cell_type": "code",
   "execution_count": 131,
   "id": "3c1842df",
   "metadata": {},
   "outputs": [
    {
     "name": "stdout",
     "output_type": "stream",
     "text": [
      "Statistics of Thresholed Frame\n",
      "Size = 2002\n",
      "Min = 850\n",
      "Max = 736\n",
      "Mean = 827.7457542457543\n",
      "Median = 828.0\n",
      "Std = 18.340976065970207\n"
     ]
    }
   ],
   "source": [
    "# Some statistics of the frame depth values\n",
    "print(\"Statistics of Thresholed Frame\")\n",
    "print(f\"Size = {len(dm_frame_filtered_values)}\")\n",
    "print(f\"Min = {np.max(dm_frame_filtered_values)}\")\n",
    "print(f\"Max = {np.min(dm_frame_filtered_values)}\")\n",
    "print(f\"Mean = {np.mean(dm_frame_filtered_values)}\")\n",
    "print(f\"Median = {np.median(dm_frame_filtered_values)}\")\n",
    "print(f\"Std = {np.std(dm_frame_filtered_values)}\")"
   ]
  },
  {
   "cell_type": "code",
   "execution_count": 132,
   "id": "48284cf5",
   "metadata": {},
   "outputs": [
    {
     "data": {
      "image/png": "[encoded data removed]",
      "text/plain": [
       "<Figure size 1152x432 with 1 Axes>"
      ]
     },
     "metadata": {
      "needs_background": "light"
     },
     "output_type": "display_data"
    }
   ],
   "source": [
    "fig = plt.figure(figsize=(16,6))\n",
    "plt.grid()\n",
    "plt.hist(dm_frame_filtered_values, bins=50)\n",
    "plt.show()"
   ]
  },
  {
   "cell_type": "code",
   "execution_count": 133,
   "id": "2554b5a9",
   "metadata": {},
   "outputs": [
    {
     "data": {
      "image/png": "[encoded data removed]",
      "text/plain": [
       "<Figure size 864x1152 with 2 Axes>"
      ]
     },
     "metadata": {
      "needs_background": "light"
     },
     "output_type": "display_data"
    }
   ],
   "source": [
    "fig = plt.figure(figsize=(12,16))\n",
    "plt.imshow(dm_frame_filtered, cmap='rainbow')\n",
    "plt.colorbar(orientation='horizontal')\n",
    "fig.tight_layout()\n",
    "plt.show()"
   ]
  },
  {
   "cell_type": "markdown",
   "id": "31c049b0",
   "metadata": {},
   "source": [
    "## Write a slice into point cloud files for future inspection"
   ]
  },
  {
   "cell_type": "code",
   "execution_count": 134,
   "id": "d93568e3",
   "metadata": {},
   "outputs": [],
   "source": [
    "# Numpy version is faster\n",
    "def xyz_numpy(frame, idxs, topx, topy, cx, cy, fx, fy):\n",
    "    u = idxs[:,1]\n",
    "    v = idxs[:,0]\n",
    "    z = frame[v,u]\n",
    "    x = ((u + topx - cx)*z)/fx\n",
    "    y = ((v + topy - cy)*z)/fy\n",
    "    return x, y, z"
   ]
  },
  {
   "cell_type": "code",
   "execution_count": 135,
   "id": "288bec5e",
   "metadata": {},
   "outputs": [],
   "source": [
    "def xyz(frame, idxs, topx, topy, cx, cy, fx, fy):\n",
    "    xyz_c = []\n",
    "    for v, u in idxs:\n",
    "        z = frame[v, u]\n",
    "        x = ((u + topx - cx)*z)/fx\n",
    "        y = ((v + topy - cy)*z)/fy\n",
    "        xyz_c.append([x,y,z])\n",
    "    return xyz_c"
   ]
  },
  {
   "cell_type": "code",
   "execution_count": 136,
   "id": "44ea21c6",
   "metadata": {},
   "outputs": [
    {
     "data": {
      "text/plain": [
       "3"
      ]
     },
     "execution_count": 136,
     "metadata": {},
     "output_type": "execute_result"
    }
   ],
   "source": [
    "CURRENT_SLICE"
   ]
  },
  {
   "cell_type": "code",
   "execution_count": 137,
   "id": "359460a3",
   "metadata": {},
   "outputs": [],
   "source": [
    "roi_topx = roi_topx_rh\n",
    "roi_topy = roi_topy_rh"
   ]
  },
  {
   "cell_type": "code",
   "execution_count": 138,
   "id": "615ab3a2",
   "metadata": {},
   "outputs": [
    {
     "name": "stdout",
     "output_type": "stream",
     "text": [
      "Writing Current Slice 3\n",
      "Writing file 3757.xyz\n",
      "Writing file 3758.xyz\n",
      "Writing file 3759.xyz\n",
      "Writing file 3760.xyz\n",
      "Writing file 3761.xyz\n",
      "Writing file 3762.xyz\n",
      "Writing file 3763.xyz\n",
      "Writing file 3764.xyz\n",
      "Writing file 3765.xyz\n",
      "Writing file 3766.xyz\n",
      "Writing file 3767.xyz\n",
      "Writing file 3768.xyz\n",
      "Writing file 3769.xyz\n",
      "Writing file 3770.xyz\n",
      "Writing file 3771.xyz\n",
      "Writing file 3772.xyz\n"
     ]
    }
   ],
   "source": [
    "print(f\"Writing Current Slice {CURRENT_SLICE}\")\n",
    "slice_ = dataset[CURRENT_SLICE*slice_size:min(CURRENT_SLICE*slice_size+slice_size,size)]\n",
    "for sl_ in slice_:\n",
    "    dm_ = sl_['depth_map'].copy()\n",
    "    fn = sl_['frame']\n",
    "    filter_cond = (dm_ > MAX_DEPTH_VALUE) | (dm_ < MIN_DEPTH_VALUE)\n",
    "    dm_frame_filtered_idxs = np.argwhere(~filter_cond)\n",
    "    x, y, z = xyz_numpy(dm_, dm_frame_filtered_idxs, roi_topx, roi_topy, CX, CY, FX, FY)\n",
    "    # write to file\n",
    "    filename = f\"{fn}.xyz\"\n",
    "    print(f\"Writing file {filename}\")\n",
    "    fd = open(filename, 'w')\n",
    "    for i,j,k in zip(x, y, z):\n",
    "        fd.write(f\"{i} {j} {k}\\n\")\n",
    "    fd.close()"
   ]
  },
  {
   "cell_type": "code",
   "execution_count": null,
   "id": "245f1b89",
   "metadata": {},
   "outputs": [],
   "source": []
  }
 ],
 "metadata": {
  "kernelspec": {
   "display_name": "Python 3",
   "language": "python",
   "name": "python3"
  },
  "language_info": {
   "codemirror_mode": {
    "name": "ipython",
    "version": 3
   },
   "file_extension": ".py",
   "mimetype": "text/x-python",
   "name": "python",
   "nbconvert_exporter": "python",
   "pygments_lexer": "ipython3",
   "version": "3.6.13"
  }
 },
 "nbformat": 4,
 "nbformat_minor": 5
}
