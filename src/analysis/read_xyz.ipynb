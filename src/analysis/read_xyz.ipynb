{
 "cells": [
  {
   "cell_type": "code",
   "execution_count": 1,
   "id": "3a5541cf",
   "metadata": {},
   "outputs": [
    {
     "name": "stdout",
     "output_type": "stream",
     "text": [
      "Jupyter environment detected. Enabling Open3D WebVisualizer.\n",
      "[Open3D INFO] WebRTC GUI backend enabled.\n",
      "[Open3D INFO] WebRTCWindowSystem: HTTP handshake server disabled.\n"
     ]
    }
   ],
   "source": [
    "import open3d as o3d"
   ]
  },
  {
   "cell_type": "code",
   "execution_count": 2,
   "id": "01e86594",
   "metadata": {},
   "outputs": [],
   "source": [
    "FILE = '3906.xyz'"
   ]
  },
  {
   "cell_type": "code",
   "execution_count": 3,
   "id": "469ff461",
   "metadata": {},
   "outputs": [],
   "source": [
    "pcd = o3d.io.read_point_cloud(FILE)"
   ]
  },
  {
   "cell_type": "code",
   "execution_count": 4,
   "id": "961f39b6",
   "metadata": {},
   "outputs": [
    {
     "data": {
      "text/plain": [
       "PointCloud with 3902 points."
      ]
     },
     "execution_count": 4,
     "metadata": {},
     "output_type": "execute_result"
    }
   ],
   "source": [
    "pcd"
   ]
  },
  {
   "cell_type": "code",
   "execution_count": 7,
   "id": "85e2a762",
   "metadata": {},
   "outputs": [],
   "source": [
    "o3d.visualization.draw_geometries([pcd],\n",
    "                                  width=400,\n",
    "                                  height=300,\n",
    "                                  zoom=0.5,\n",
    "                                  front=[-0.4, -0.4, 1],\n",
    "                                  lookat=[-0.6, -1, -1.3],\n",
    "                                  up=[1.1, -0.3, -1.0])"
   ]
  },
  {
   "cell_type": "code",
   "execution_count": null,
   "id": "e576fd9e",
   "metadata": {},
   "outputs": [],
   "source": []
  }
 ],
 "metadata": {
  "kernelspec": {
   "display_name": "Python 3",
   "language": "python",
   "name": "python3"
  },
  "language_info": {
   "codemirror_mode": {
    "name": "ipython",
    "version": 3
   },
   "file_extension": ".py",
   "mimetype": "text/x-python",
   "name": "python",
   "nbconvert_exporter": "python",
   "pygments_lexer": "ipython3",
   "version": "3.6.13"
  }
 },
 "nbformat": 4,
 "nbformat_minor": 5
}
